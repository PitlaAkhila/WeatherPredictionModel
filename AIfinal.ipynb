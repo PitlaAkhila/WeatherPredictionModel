{
 "cells": [
  {
   "cell_type": "code",
   "execution_count": 23,
   "id": "640035d9",
   "metadata": {},
   "outputs": [],
   "source": [
    "import numpy as np\n",
    "import sys\n",
    "import pandas as pd\n",
    "from sklearn.model_selection import train_test_split\n",
    "from sklearn import preprocessing\n",
    "from sklearn.pipeline import make_pipeline\n",
    "from sklearn.model_selection import GridSearchCV\n",
    "from sklearn.metrics import r2_score\n",
    "import joblib\n",
    "from sklearn.preprocessing import RobustScaler\n",
    "from sklearn.preprocessing import StandardScaler\n",
    "import datetime\n",
    "from sklearn.svm import SVR\n",
    "import sklearn.svm as svm\n",
    "from sklearn.linear_model import LinearRegression\n",
    "from sklearn.tree import DecisionTreeRegressor\n",
    "from sklearn.ensemble import RandomForestRegressor\n",
    "from sklearn.metrics import mean_squared_error\n",
    "from sklearn.metrics import mean_absolute_error\n",
    "from datetime import timedelta\n",
    "import matplotlib.pyplot as plt\n",
    "from sklearn.tree import DecisionTreeRegressor\n",
    "from sklearn.tree import DecisionTreeClassifier\n",
    "from sklearn.model_selection import train_test_split, cross_val_score\n",
    "from sklearn.metrics import confusion_matrix, accuracy_score, classification_report\n",
    "from sklearn import preprocessing\n",
    "from sklearn import utils\n",
    "from scipy import stats\n",
    "\n",
    "\n",
    "# Read dataset from csv\n",
    "column_names = [\n",
    "    'Fran Datum Tid (UTC)', 'till', 'day', 'temperature', 'Kvalitet', 'Tidsutsnitt:', 'Unnamed: 5']\n",
    "column_names_used = [\n",
    "    'Fran Datum Tid (UTC)', 'till', 'day']\n",
    "\n",
    "\n",
    "def make_numeric_values(arr, title):\n",
    "    new_arr = []\n",
    "    for date in arr[title]:\n",
    "        new_date = make_date(date)\n",
    "        new_arr.append(new_date)\n",
    "    arr[title] = new_arr\n",
    "\n",
    "def fix_array(arr):\n",
    "    for name in column_names_used:\n",
    "        make_numeric_values(arr, name)\n",
    "\n",
    "def make_date(date):\n",
    "    new_date = date.split(' ')\n",
    "    new_date = new_date[0]\n",
    "    new_date = new_date.split('-')\n",
    "    new_number = ''\n",
    "    first = True\n",
    "    for number in new_date:\n",
    "        if first:\n",
    "            first = False\n",
    "        else:\n",
    "            new_number = new_number + number\n",
    "    return new_number\n",
    "\n",
    "def convert_date_to_string(plus_days):\n",
    "    date = datetime.datetime.today() + timedelta(days=plus_days)\n",
    "    date = date.strftime(\"%Y-%m-%d %H:%M:%S\") \n",
    "    date = date.split(' ')\n",
    "    date = date[0]\n",
    "    date = date.split('-')\n",
    "    date = date[1]+date[2]\n",
    "    return date\n",
    "\n",
    "\n",
    "data1 = pd.read_csv(r\"C:\\Users\\akhil\\Downloads\\Archive_data.csv\", sep=';', skiprows=3607, names=column_names)\n",
    "    #print data1\n",
    "    #sys.exit()\n",
    "data2 = pd.read_csv(r\"C:\\Users\\akhil\\Downloads\\Latest_data.csv\", sep=';', skiprows=15, names=column_names)\n",
    "data1 = data2.append(data1)\n",
    "data1 = data1.drop('Tidsutsnitt:', axis=1)\n",
    "X = data1.drop([\"temperature\"], axis=1)\n",
    "X = X.drop(['Kvalitet'], axis = 1)\n",
    "X = X.drop(['Unnamed: 5'], axis = 1)\n",
    "fix_array(X)\n",
    "\n",
    "y = data1['temperature']\n",
    "train_X,test_X,train_y,test_y=train_test_split(X,y,test_size=0.2,random_state=4)\n"
   ]
  },
  {
   "cell_type": "code",
   "execution_count": 5,
   "id": "1860371f",
   "metadata": {},
   "outputs": [
    {
     "data": {
      "text/plain": [
       "(11817, 3)"
      ]
     },
     "execution_count": 5,
     "metadata": {},
     "output_type": "execute_result"
    }
   ],
   "source": [
    "train_X.shape"
   ]
  },
  {
   "cell_type": "code",
   "execution_count": 6,
   "id": "43f64774",
   "metadata": {},
   "outputs": [
    {
     "data": {
      "text/plain": [
       "(11817,)"
      ]
     },
     "execution_count": 6,
     "metadata": {},
     "output_type": "execute_result"
    }
   ],
   "source": [
    "\n",
    "train_y.shape"
   ]
  },
  {
   "cell_type": "code",
   "execution_count": 7,
   "id": "4ea6fb8c",
   "metadata": {},
   "outputs": [
    {
     "data": {
      "text/plain": [
       "4331     20.2\n",
       "10870    18.1\n",
       "13727    16.1\n",
       "9120     -0.3\n",
       "5924      1.5\n",
       "Name: temperature, dtype: float64"
      ]
     },
     "execution_count": 7,
     "metadata": {},
     "output_type": "execute_result"
    }
   ],
   "source": [
    "\n",
    "train_y.head()"
   ]
  },
  {
   "cell_type": "code",
   "execution_count": 21,
   "id": "f6fe6f90",
   "metadata": {},
   "outputs": [
    {
     "data": {
      "text/plain": [
       "Fran Datum Tid (UTC)        0\n",
       "till                        0\n",
       "day                         0\n",
       "temperature                 0\n",
       "Kvalitet                    0\n",
       "Unnamed: 5              14763\n",
       "dtype: int64"
      ]
     },
     "execution_count": 21,
     "metadata": {},
     "output_type": "execute_result"
    }
   ],
   "source": [
    "data1.isnull().sum()"
   ]
  },
  {
   "cell_type": "code",
   "execution_count": 29,
   "id": "c088481f",
   "metadata": {},
   "outputs": [],
   "source": [
    "df_new = data1[(np.abs(stats.zscore(data1.temperature)) < 3)]"
   ]
  },
  {
   "cell_type": "code",
   "execution_count": 26,
   "id": "0e9cdc91",
   "metadata": {},
   "outputs": [
    {
     "data": {
      "text/html": [
       "<div>\n",
       "<style scoped>\n",
       "    .dataframe tbody tr th:only-of-type {\n",
       "        vertical-align: middle;\n",
       "    }\n",
       "\n",
       "    .dataframe tbody tr th {\n",
       "        vertical-align: top;\n",
       "    }\n",
       "\n",
       "    .dataframe thead th {\n",
       "        text-align: right;\n",
       "    }\n",
       "</style>\n",
       "<table border=\"1\" class=\"dataframe\">\n",
       "  <thead>\n",
       "    <tr style=\"text-align: right;\">\n",
       "      <th></th>\n",
       "      <th>Fran Datum Tid (UTC)</th>\n",
       "      <th>till</th>\n",
       "      <th>day</th>\n",
       "      <th>temperature</th>\n",
       "      <th>Kvalitet</th>\n",
       "      <th>Unnamed: 5</th>\n",
       "    </tr>\n",
       "  </thead>\n",
       "  <tbody>\n",
       "    <tr>\n",
       "      <th>0</th>\n",
       "      <td>2019-01-19 00:00:01</td>\n",
       "      <td>2019-01-20 00:00:00</td>\n",
       "      <td>2019-01-19</td>\n",
       "      <td>-0.6</td>\n",
       "      <td>Y</td>\n",
       "      <td>Data från senaste fyra månaderna</td>\n",
       "    </tr>\n",
       "    <tr>\n",
       "      <th>1</th>\n",
       "      <td>2019-01-20 00:00:01</td>\n",
       "      <td>2019-01-21 00:00:00</td>\n",
       "      <td>2019-01-20</td>\n",
       "      <td>-1.9</td>\n",
       "      <td>Y</td>\n",
       "      <td>Tidsperiod (fr.o.m.) = 2019-01-19 00:00:01 (UTC)</td>\n",
       "    </tr>\n",
       "    <tr>\n",
       "      <th>2</th>\n",
       "      <td>2019-01-21 00:00:01</td>\n",
       "      <td>2019-01-22 00:00:00</td>\n",
       "      <td>2019-01-21</td>\n",
       "      <td>1.4</td>\n",
       "      <td>Y</td>\n",
       "      <td>Tidsperiod (t.o.m.) = 2019-05-29 05:00:00 (UTC)</td>\n",
       "    </tr>\n",
       "    <tr>\n",
       "      <th>3</th>\n",
       "      <td>2019-01-22 00:00:01</td>\n",
       "      <td>2019-01-23 00:00:00</td>\n",
       "      <td>2019-01-22</td>\n",
       "      <td>0.9</td>\n",
       "      <td>Y</td>\n",
       "      <td>Medelvärdet är beräknat för = 24 timmar</td>\n",
       "    </tr>\n",
       "    <tr>\n",
       "      <th>4</th>\n",
       "      <td>2019-01-23 00:00:01</td>\n",
       "      <td>2019-01-24 00:00:00</td>\n",
       "      <td>2019-01-23</td>\n",
       "      <td>-1.9</td>\n",
       "      <td>Y</td>\n",
       "      <td>NaN</td>\n",
       "    </tr>\n",
       "  </tbody>\n",
       "</table>\n",
       "</div>"
      ],
      "text/plain": [
       "  Fran Datum Tid (UTC)                 till         day  temperature Kvalitet  \\\n",
       "0  2019-01-19 00:00:01  2019-01-20 00:00:00  2019-01-19         -0.6        Y   \n",
       "1  2019-01-20 00:00:01  2019-01-21 00:00:00  2019-01-20         -1.9        Y   \n",
       "2  2019-01-21 00:00:01  2019-01-22 00:00:00  2019-01-21          1.4        Y   \n",
       "3  2019-01-22 00:00:01  2019-01-23 00:00:00  2019-01-22          0.9        Y   \n",
       "4  2019-01-23 00:00:01  2019-01-24 00:00:00  2019-01-23         -1.9        Y   \n",
       "\n",
       "                                         Unnamed: 5  \n",
       "0                  Data från senaste fyra månaderna  \n",
       "1  Tidsperiod (fr.o.m.) = 2019-01-19 00:00:01 (UTC)  \n",
       "2   Tidsperiod (t.o.m.) = 2019-05-29 05:00:00 (UTC)  \n",
       "3           Medelvärdet är beräknat för = 24 timmar  \n",
       "4                                               NaN  "
      ]
     },
     "execution_count": 26,
     "metadata": {},
     "output_type": "execute_result"
    }
   ],
   "source": [
    "data1.head()\n"
   ]
  },
  {
   "cell_type": "code",
   "execution_count": 27,
   "id": "db35f55d",
   "metadata": {},
   "outputs": [
    {
     "data": {
      "text/html": [
       "<div>\n",
       "<style scoped>\n",
       "    .dataframe tbody tr th:only-of-type {\n",
       "        vertical-align: middle;\n",
       "    }\n",
       "\n",
       "    .dataframe tbody tr th {\n",
       "        vertical-align: top;\n",
       "    }\n",
       "\n",
       "    .dataframe thead th {\n",
       "        text-align: right;\n",
       "    }\n",
       "</style>\n",
       "<table border=\"1\" class=\"dataframe\">\n",
       "  <thead>\n",
       "    <tr style=\"text-align: right;\">\n",
       "      <th></th>\n",
       "      <th>temperature</th>\n",
       "    </tr>\n",
       "  </thead>\n",
       "  <tbody>\n",
       "    <tr>\n",
       "      <th>count</th>\n",
       "      <td>14772.000000</td>\n",
       "    </tr>\n",
       "    <tr>\n",
       "      <th>mean</th>\n",
       "      <td>8.577302</td>\n",
       "    </tr>\n",
       "    <tr>\n",
       "      <th>std</th>\n",
       "      <td>7.214852</td>\n",
       "    </tr>\n",
       "    <tr>\n",
       "      <th>min</th>\n",
       "      <td>-22.200000</td>\n",
       "    </tr>\n",
       "    <tr>\n",
       "      <th>25%</th>\n",
       "      <td>3.300000</td>\n",
       "    </tr>\n",
       "    <tr>\n",
       "      <th>50%</th>\n",
       "      <td>8.400000</td>\n",
       "    </tr>\n",
       "    <tr>\n",
       "      <th>75%</th>\n",
       "      <td>14.600000</td>\n",
       "    </tr>\n",
       "    <tr>\n",
       "      <th>max</th>\n",
       "      <td>27.400000</td>\n",
       "    </tr>\n",
       "  </tbody>\n",
       "</table>\n",
       "</div>"
      ],
      "text/plain": [
       "        temperature\n",
       "count  14772.000000\n",
       "mean       8.577302\n",
       "std        7.214852\n",
       "min      -22.200000\n",
       "25%        3.300000\n",
       "50%        8.400000\n",
       "75%       14.600000\n",
       "max       27.400000"
      ]
     },
     "execution_count": 27,
     "metadata": {},
     "output_type": "execute_result"
    }
   ],
   "source": [
    "data1.describe()\n"
   ]
  },
  {
   "cell_type": "code",
   "execution_count": null,
   "id": "b366bf96",
   "metadata": {},
   "outputs": [],
   "source": []
  },
  {
   "cell_type": "code",
   "execution_count": null,
   "id": "465f3c99",
   "metadata": {},
   "outputs": [],
   "source": []
  },
  {
   "cell_type": "code",
   "execution_count": null,
   "id": "22ce79c9",
   "metadata": {},
   "outputs": [],
   "source": [
    "#multiple linear regression"
   ]
  },
  {
   "cell_type": "code",
   "execution_count": 17,
   "id": "71c0859b",
   "metadata": {},
   "outputs": [],
   "source": [
    "model=LinearRegression()\n",
    "model.fit(train_X,train_y)\n",
    "prediction = model.predict(test_X)\n",
    "     \n",
    "     "
   ]
  },
  {
   "cell_type": "code",
   "execution_count": null,
   "id": "9667d922",
   "metadata": {},
   "outputs": [],
   "source": []
  },
  {
   "cell_type": "code",
   "execution_count": 18,
   "id": "6d7023a8",
   "metadata": {},
   "outputs": [
    {
     "data": {
      "text/plain": [
       "5.7431568704812"
      ]
     },
     "execution_count": 18,
     "metadata": {},
     "output_type": "execute_result"
    }
   ],
   "source": [
    "\n",
    "#calculating error\n",
    "np.mean(np.absolute(prediction-test_y))"
   ]
  },
  {
   "cell_type": "code",
   "execution_count": 19,
   "id": "c966a9b5",
   "metadata": {},
   "outputs": [
    {
     "name": "stdout",
     "output_type": "stream",
     "text": [
      "Variance score: 0.08\n"
     ]
    }
   ],
   "source": [
    "print('Variance score: %.2f' % model.score(test_X, test_y))"
   ]
  },
  {
   "cell_type": "code",
   "execution_count": 20,
   "id": "eb7bcb8f",
   "metadata": {},
   "outputs": [
    {
     "data": {
      "text/html": [
       "<div>\n",
       "<style scoped>\n",
       "    .dataframe tbody tr th:only-of-type {\n",
       "        vertical-align: middle;\n",
       "    }\n",
       "\n",
       "    .dataframe tbody tr th {\n",
       "        vertical-align: top;\n",
       "    }\n",
       "\n",
       "    .dataframe thead th {\n",
       "        text-align: right;\n",
       "    }\n",
       "</style>\n",
       "<table border=\"1\" class=\"dataframe\">\n",
       "  <thead>\n",
       "    <tr style=\"text-align: right;\">\n",
       "      <th></th>\n",
       "      <th>Actual</th>\n",
       "      <th>Prediction</th>\n",
       "      <th>diff</th>\n",
       "    </tr>\n",
       "  </thead>\n",
       "  <tbody>\n",
       "    <tr>\n",
       "      <th>11638</th>\n",
       "      <td>12.3</td>\n",
       "      <td>9.95</td>\n",
       "      <td>2.35</td>\n",
       "    </tr>\n",
       "    <tr>\n",
       "      <th>11949</th>\n",
       "      <td>19.8</td>\n",
       "      <td>8.90</td>\n",
       "      <td>10.90</td>\n",
       "    </tr>\n",
       "    <tr>\n",
       "      <th>10208</th>\n",
       "      <td>12.1</td>\n",
       "      <td>10.51</td>\n",
       "      <td>1.59</td>\n",
       "    </tr>\n",
       "    <tr>\n",
       "      <th>10823</th>\n",
       "      <td>13.4</td>\n",
       "      <td>8.34</td>\n",
       "      <td>5.06</td>\n",
       "    </tr>\n",
       "    <tr>\n",
       "      <th>2715</th>\n",
       "      <td>-13.5</td>\n",
       "      <td>5.51</td>\n",
       "      <td>-19.01</td>\n",
       "    </tr>\n",
       "    <tr>\n",
       "      <th>...</th>\n",
       "      <td>...</td>\n",
       "      <td>...</td>\n",
       "      <td>...</td>\n",
       "    </tr>\n",
       "    <tr>\n",
       "      <th>1168</th>\n",
       "      <td>3.8</td>\n",
       "      <td>7.20</td>\n",
       "      <td>-3.40</td>\n",
       "    </tr>\n",
       "    <tr>\n",
       "      <th>11032</th>\n",
       "      <td>-1.0</td>\n",
       "      <td>5.57</td>\n",
       "      <td>-6.57</td>\n",
       "    </tr>\n",
       "    <tr>\n",
       "      <th>4339</th>\n",
       "      <td>12.6</td>\n",
       "      <td>9.32</td>\n",
       "      <td>3.28</td>\n",
       "    </tr>\n",
       "    <tr>\n",
       "      <th>9221</th>\n",
       "      <td>1.7</td>\n",
       "      <td>6.03</td>\n",
       "      <td>-4.33</td>\n",
       "    </tr>\n",
       "    <tr>\n",
       "      <th>12763</th>\n",
       "      <td>10.3</td>\n",
       "      <td>10.49</td>\n",
       "      <td>-0.19</td>\n",
       "    </tr>\n",
       "  </tbody>\n",
       "</table>\n",
       "<p>2955 rows × 3 columns</p>\n",
       "</div>"
      ],
      "text/plain": [
       "       Actual  Prediction   diff\n",
       "11638    12.3        9.95   2.35\n",
       "11949    19.8        8.90  10.90\n",
       "10208    12.1       10.51   1.59\n",
       "10823    13.4        8.34   5.06\n",
       "2715    -13.5        5.51 -19.01\n",
       "...       ...         ...    ...\n",
       "1168      3.8        7.20  -3.40\n",
       "11032    -1.0        5.57  -6.57\n",
       "4339     12.6        9.32   3.28\n",
       "9221      1.7        6.03  -4.33\n",
       "12763    10.3       10.49  -0.19\n",
       "\n",
       "[2955 rows x 3 columns]"
      ]
     },
     "execution_count": 20,
     "metadata": {},
     "output_type": "execute_result"
    }
   ],
   "source": [
    "for i in range(len(prediction)):\n",
    "  prediction[i]=round(prediction[i],2)\n",
    "pd.DataFrame({'Actual':test_y,'Prediction':prediction,'diff':(test_y-prediction)})"
   ]
  },
  {
   "cell_type": "code",
   "execution_count": null,
   "id": "0e898c6d",
   "metadata": {},
   "outputs": [],
   "source": [
    "\n"
   ]
  },
  {
   "cell_type": "code",
   "execution_count": null,
   "id": "bb3e9592",
   "metadata": {},
   "outputs": [],
   "source": []
  },
  {
   "cell_type": "code",
   "execution_count": null,
   "id": "1c357e1a",
   "metadata": {},
   "outputs": [],
   "source": []
  },
  {
   "cell_type": "code",
   "execution_count": null,
   "id": "d69381a2",
   "metadata": {},
   "outputs": [],
   "source": []
  },
  {
   "cell_type": "code",
   "execution_count": null,
   "id": "70f7c6ac",
   "metadata": {},
   "outputs": [],
   "source": []
  },
  {
   "cell_type": "code",
   "execution_count": 2,
   "id": "9a0f1c9c",
   "metadata": {},
   "outputs": [
    {
     "name": "stdout",
     "output_type": "stream",
     "text": [
      "X_train: 7386, Y_train: 7386\n",
      "X_train: 7386, Y_train: 7386\n",
      "\n",
      "\n"
     ]
    },
    {
     "data": {
      "text/html": [
       "<style>#sk-container-id-1 {color: black;background-color: white;}#sk-container-id-1 pre{padding: 0;}#sk-container-id-1 div.sk-toggleable {background-color: white;}#sk-container-id-1 label.sk-toggleable__label {cursor: pointer;display: block;width: 100%;margin-bottom: 0;padding: 0.3em;box-sizing: border-box;text-align: center;}#sk-container-id-1 label.sk-toggleable__label-arrow:before {content: \"▸\";float: left;margin-right: 0.25em;color: #696969;}#sk-container-id-1 label.sk-toggleable__label-arrow:hover:before {color: black;}#sk-container-id-1 div.sk-estimator:hover label.sk-toggleable__label-arrow:before {color: black;}#sk-container-id-1 div.sk-toggleable__content {max-height: 0;max-width: 0;overflow: hidden;text-align: left;background-color: #f0f8ff;}#sk-container-id-1 div.sk-toggleable__content pre {margin: 0.2em;color: black;border-radius: 0.25em;background-color: #f0f8ff;}#sk-container-id-1 input.sk-toggleable__control:checked~div.sk-toggleable__content {max-height: 200px;max-width: 100%;overflow: auto;}#sk-container-id-1 input.sk-toggleable__control:checked~label.sk-toggleable__label-arrow:before {content: \"▾\";}#sk-container-id-1 div.sk-estimator input.sk-toggleable__control:checked~label.sk-toggleable__label {background-color: #d4ebff;}#sk-container-id-1 div.sk-label input.sk-toggleable__control:checked~label.sk-toggleable__label {background-color: #d4ebff;}#sk-container-id-1 input.sk-hidden--visually {border: 0;clip: rect(1px 1px 1px 1px);clip: rect(1px, 1px, 1px, 1px);height: 1px;margin: -1px;overflow: hidden;padding: 0;position: absolute;width: 1px;}#sk-container-id-1 div.sk-estimator {font-family: monospace;background-color: #f0f8ff;border: 1px dotted black;border-radius: 0.25em;box-sizing: border-box;margin-bottom: 0.5em;}#sk-container-id-1 div.sk-estimator:hover {background-color: #d4ebff;}#sk-container-id-1 div.sk-parallel-item::after {content: \"\";width: 100%;border-bottom: 1px solid gray;flex-grow: 1;}#sk-container-id-1 div.sk-label:hover label.sk-toggleable__label {background-color: #d4ebff;}#sk-container-id-1 div.sk-serial::before {content: \"\";position: absolute;border-left: 1px solid gray;box-sizing: border-box;top: 0;bottom: 0;left: 50%;z-index: 0;}#sk-container-id-1 div.sk-serial {display: flex;flex-direction: column;align-items: center;background-color: white;padding-right: 0.2em;padding-left: 0.2em;position: relative;}#sk-container-id-1 div.sk-item {position: relative;z-index: 1;}#sk-container-id-1 div.sk-parallel {display: flex;align-items: stretch;justify-content: center;background-color: white;position: relative;}#sk-container-id-1 div.sk-item::before, #sk-container-id-1 div.sk-parallel-item::before {content: \"\";position: absolute;border-left: 1px solid gray;box-sizing: border-box;top: 0;bottom: 0;left: 50%;z-index: -1;}#sk-container-id-1 div.sk-parallel-item {display: flex;flex-direction: column;z-index: 1;position: relative;background-color: white;}#sk-container-id-1 div.sk-parallel-item:first-child::after {align-self: flex-end;width: 50%;}#sk-container-id-1 div.sk-parallel-item:last-child::after {align-self: flex-start;width: 50%;}#sk-container-id-1 div.sk-parallel-item:only-child::after {width: 0;}#sk-container-id-1 div.sk-dashed-wrapped {border: 1px dashed gray;margin: 0 0.4em 0.5em 0.4em;box-sizing: border-box;padding-bottom: 0.4em;background-color: white;}#sk-container-id-1 div.sk-label label {font-family: monospace;font-weight: bold;display: inline-block;line-height: 1.2em;}#sk-container-id-1 div.sk-label-container {text-align: center;}#sk-container-id-1 div.sk-container {/* jupyter's `normalize.less` sets `[hidden] { display: none; }` but bootstrap.min.css set `[hidden] { display: none !important; }` so we also need the `!important` here to be able to override the default hidden behavior on the sphinx rendered scikit-learn.org. See: https://github.com/scikit-learn/scikit-learn/issues/21755 */display: inline-block !important;position: relative;}#sk-container-id-1 div.sk-text-repr-fallback {display: none;}</style><div id=\"sk-container-id-1\" class=\"sk-top-container\"><div class=\"sk-text-repr-fallback\"><pre>DecisionTreeRegressor(random_state=0)</pre><b>In a Jupyter environment, please rerun this cell to show the HTML representation or trust the notebook. <br />On GitHub, the HTML representation is unable to render, please try loading this page with nbviewer.org.</b></div><div class=\"sk-container\" hidden><div class=\"sk-item\"><div class=\"sk-estimator sk-toggleable\"><input class=\"sk-toggleable__control sk-hidden--visually\" id=\"sk-estimator-id-1\" type=\"checkbox\" checked><label for=\"sk-estimator-id-1\" class=\"sk-toggleable__label sk-toggleable__label-arrow\">DecisionTreeRegressor</label><div class=\"sk-toggleable__content\"><pre>DecisionTreeRegressor(random_state=0)</pre></div></div></div></div></div>"
      ],
      "text/plain": [
       "DecisionTreeRegressor(random_state=0)"
      ]
     },
     "execution_count": 2,
     "metadata": {},
     "output_type": "execute_result"
    }
   ],
   "source": [
    "\n",
    "# Print samples after running train_test_split\n",
    "print(\"X_train: {}, Y_train: {}\".format(len(X_train), len(X_test)))\n",
    "print(\"X_train: {}, Y_train: {}\".format(len(y_train), len(y_test)))\n",
    "\n",
    "print(\"\\n\")\n",
    "\n",
    "# Decision Tree Classifier Model setup after parameter tuning\n",
    "# create a regressor object\n",
    "regressor = DecisionTreeRegressor(random_state = 0) \n",
    "  \n",
    "# fit the regressor with X and Y data\n",
    "regressor.fit(X, y)"
   ]
  },
  {
   "cell_type": "code",
   "execution_count": null,
   "id": "bd7b6652",
   "metadata": {
    "scrolled": true
   },
   "outputs": [],
   "source": [
    "from sklearn.tree import DecisionTreeRegressor\n",
    "regressor=DecisionTreeRegressor(random_state=0)\n",
    "regressor.fit(X_train,y_train)\n",
    "     \n",
    "\n",
    "\n",
    "\n",
    "#regressor = DecisionTreeRegressor(random_state = 0) \n",
    "  \n",
    "# fit the regressor with X and Y data\n",
    "#regressor.fit(X, y)\n",
    "# Print results to evaluate model\n",
    "#print(\"Showing Performance Metrics for Decision Tree Classifier\\n\")\n",
    "\n",
    "#print (\"Training Accuracy: {}\".format(model.score(X_train, y_train)))\n",
    "predicted = regressor.predict(X_test)\n",
    "#print (\"Testing Accuracy: {}\".format(accuracy_score(y_test, predicted)))\n",
    "\n",
    "#print(\"\\n\")\n",
    "  \n"
   ]
  },
  {
   "cell_type": "code",
   "execution_count": null,
   "id": "b8253f75",
   "metadata": {},
   "outputs": [],
   "source": [
    "\n",
    "print(\"Cross Validation Accuracy: \\n\")\n",
    "cv_accuracy = cross_val_score(estimator=regressor, X=X_train, y=y_train, cv=10)\n",
    "print(\"Accuracy using 10 folds: \")\n",
    "print(cv_accuracy)\n",
    "\n",
    "print(\"\\n\")\n"
   ]
  },
  {
   "cell_type": "code",
   "execution_count": null,
   "id": "0b75cc60",
   "metadata": {},
   "outputs": [],
   "source": [
    "print(\"Mean accuracy: {}\".format(cv_accuracy.mean()))\n",
    "print(\"Standard Deviation: {}\".format(cv_accuracy.std()))\n",
    "\n",
    "print(\"\\n\")\n"
   ]
  },
  {
   "cell_type": "code",
   "execution_count": null,
   "id": "236ca264",
   "metadata": {},
   "outputs": [],
   "source": [
    "prediction2=regressor.predict(X_test)\n",
    "np.mean(np.absolute(prediction2-y_test))"
   ]
  },
  {
   "cell_type": "code",
   "execution_count": null,
   "id": "33942a53",
   "metadata": {},
   "outputs": [],
   "source": [
    "print('Variance score: %.2f' % regressor.score(X_test, y_test))"
   ]
  },
  {
   "cell_type": "code",
   "execution_count": null,
   "id": "80d8968e",
   "metadata": {},
   "outputs": [],
   "source": [
    "for i in range(len(prediction2)):\n",
    "  prediction2[i]=round(prediction2[i],2)\n",
    "pd.DataFrame({'Actual':y_test,'Prediction':prediction2,'diff':(y_test-prediction2)})"
   ]
  },
  {
   "cell_type": "code",
   "execution_count": null,
   "id": "3056cfc7",
   "metadata": {},
   "outputs": [],
   "source": []
  },
  {
   "cell_type": "code",
   "execution_count": null,
   "id": "b869f8a5",
   "metadata": {},
   "outputs": [],
   "source": []
  },
  {
   "cell_type": "code",
   "execution_count": null,
   "id": "30f68c8f",
   "metadata": {},
   "outputs": [],
   "source": []
  },
  {
   "cell_type": "code",
   "execution_count": null,
   "id": "d57b3d93",
   "metadata": {},
   "outputs": [],
   "source": []
  },
  {
   "cell_type": "code",
   "execution_count": null,
   "id": "7333d1c9",
   "metadata": {},
   "outputs": [],
   "source": []
  },
  {
   "cell_type": "code",
   "execution_count": null,
   "id": "22440c67",
   "metadata": {},
   "outputs": [],
   "source": []
  }
 ],
 "metadata": {
  "kernelspec": {
   "display_name": "Python 3",
   "language": "python",
   "name": "python3"
  },
  "language_info": {
   "codemirror_mode": {
    "name": "ipython",
    "version": 3
   },
   "file_extension": ".py",
   "mimetype": "text/x-python",
   "name": "python",
   "nbconvert_exporter": "python",
   "pygments_lexer": "ipython3",
   "version": "3.8.8"
  }
 },
 "nbformat": 4,
 "nbformat_minor": 5
}
